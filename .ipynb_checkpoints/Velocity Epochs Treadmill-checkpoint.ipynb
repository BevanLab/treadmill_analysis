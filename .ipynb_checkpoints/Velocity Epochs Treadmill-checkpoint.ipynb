{
 "cells": [
  {
   "cell_type": "code",
   "execution_count": 1,
   "id": "reduced-quebec",
   "metadata": {},
   "outputs": [],
   "source": [
    "import numpy as np\n",
    "import pandas as pd\n",
    "import matplotlib.pyplot as plt\n",
    "from scipy.io import loadmat\n",
    "import pyabf\n",
    "import os\n",
    "%matplotlib inline"
   ]
  },
  {
   "cell_type": "markdown",
   "id": "attempted-market",
   "metadata": {},
   "source": [
    "# What do we want to do? \n",
    "We’ll need to create an operational definition of the \"bout:  \n",
    "\n",
    "1.) We’ll need to set a minimum threshold over baseline in which the bout begins. \n",
    "\n",
    "- Let’s start with 0.001V.  \n",
    "- Note: This may need to be actively adjusted per animal given variance in noise each day. \n",
    "\n",
    "2.) Once the threshold goes back to baseline (under threshold) we’ll have to set a minimum duration for how long it must stay under threshold for the bout to end.  \n",
    "\n",
    "- Let’s start with 0.5 seconds.  \n",
    "\n",
    " \n",
    "\n",
    "For analysis of each bout, we’ll want metrics generated for: \n",
    "\n",
    "1) Duration of bout \n",
    "\n",
    "2) Peak velocity \n",
    "\n",
    "3) AVG velocity \n",
    "\n",
    "4) Peak acceleration \n",
    "\n",
    "5) AVG acceleration \n",
    "\n",
    "\n",
    "# What does our data look like? \n",
    " ‘Channel_05’ is the raw velocity and ‘Channel_05_ts_step’ is the sampling frequency (1000 Hz, i.e. 1 ms, which should be the same for all files). 'Channel_05' should be a continuous trace. "
   ]
  },
  {
   "cell_type": "markdown",
   "id": "cardiovascular-retailer",
   "metadata": {},
   "source": [
    "Our modifiable parameters are below. These are `voltage_cutoff`, which is the minimum voltage we want to flag as movement, the `minimum_duration`, which is the minimum duration a bout has to under the cutoff in order to end a bout and `ts_step`, which is the time step in seconds (usually .0001, but different for the non-training data). "
   ]
  },
  {
   "cell_type": "code",
   "execution_count": 2,
   "id": "falling-ranch",
   "metadata": {},
   "outputs": [
    {
     "data": {
      "text/plain": [
       "1000"
      ]
     },
     "execution_count": 2,
     "metadata": {},
     "output_type": "execute_result"
    }
   ],
   "source": [
    "voltage_cutoff = 0.008 \n",
    "minumum_duration = 1\n",
    "ts_step = 0.001 # Time step in seconds \n",
    "sampling_rate_hz = int(1/ts_step)\n",
    "sampling_rate_hz"
   ]
  },
  {
   "cell_type": "markdown",
   "id": "pregnant-qatar",
   "metadata": {},
   "source": [
    "# Import Data \n",
    "First, we're going to use the pyabf library to read the abf file directly. Let's explore the output file a bit. "
   ]
  },
  {
   "cell_type": "code",
   "execution_count": 3,
   "id": "existing-commander",
   "metadata": {},
   "outputs": [
    {
     "name": "stdout",
     "output_type": "stream",
     "text": [
      "[0.0015 0.0015 0.0015 ... 0.0012 0.0015 0.0009]\n",
      "[  0.      0.001   0.002 ... 268.413 268.414 268.415]\n",
      "[0. 0. 0. ... 0. 0. 0.]\n"
     ]
    }
   ],
   "source": [
    "\n",
    "abf = pyabf.ABF('C:\\\\Users\\\\aar1105\\\\Box Sync\\\\BevanLab\\\\Projects\\\\treadmill_analysis\\\\ABF FILES\\\\2013_06_03_0008.abf')\n",
    "abf.setSweep(sweepNumber = 0, channel = 1)\n",
    "print(abf.sweepY) # displays sweep data (ADC)\n",
    "print(abf.sweepX) # displays sweep times (seconds)\n",
    "print(abf.sweepC) # displays command waveform (DAC)\n",
    "sweepY = -(np.array(abf.sweepY))\n",
    "sweepX = np.array(abf.sweepX)"
   ]
  },
  {
   "cell_type": "code",
   "execution_count": null,
   "id": "piano-pennsylvania",
   "metadata": {},
   "outputs": [],
   "source": []
  },
  {
   "cell_type": "code",
   "execution_count": 4,
   "id": "transsexual-glasgow",
   "metadata": {},
   "outputs": [
    {
     "data": {
      "text/plain": [
       "[<matplotlib.lines.Line2D at 0x2655701c488>]"
      ]
     },
     "execution_count": 4,
     "metadata": {},
     "output_type": "execute_result"
    },
    {
     "data": {
      "image/png": "[encoded data removed]",
      "text/plain": [
       "<Figure size 432x288 with 1 Axes>"
      ]
     },
     "metadata": {
      "needs_background": "light"
     },
     "output_type": "display_data"
    }
   ],
   "source": [
    "%matplotlib inline\n",
    "plt.plot(sweepX, sweepY)"
   ]
  },
  {
   "cell_type": "markdown",
   "id": "perceived-africa",
   "metadata": {},
   "source": []
  },
  {
   "cell_type": "code",
   "execution_count": null,
   "id": "referenced-parliament",
   "metadata": {},
   "outputs": [],
   "source": []
  },
  {
   "cell_type": "markdown",
   "id": "early-light",
   "metadata": {},
   "source": [
    "Now, let's explore our data file a little. "
   ]
  },
  {
   "cell_type": "code",
   "execution_count": 29,
   "id": "institutional-score",
   "metadata": {},
   "outputs": [
    {
     "ename": "NameError",
     "evalue": "name 'average_downsampler' is not defined",
     "output_type": "error",
     "traceback": [
      "\u001b[1;31m---------------------------------------------------------------------------\u001b[0m",
      "\u001b[1;31mNameError\u001b[0m                                 Traceback (most recent call last)",
      "\u001b[1;32m<ipython-input-29-1adb45650ec8>\u001b[0m in \u001b[0;36m<module>\u001b[1;34m\u001b[0m\n\u001b[0;32m      1\u001b[0m \u001b[0mplt\u001b[0m\u001b[1;33m.\u001b[0m\u001b[0mplot\u001b[0m\u001b[1;33m(\u001b[0m\u001b[0msweepX\u001b[0m\u001b[1;33m[\u001b[0m\u001b[0msampling_rate_hz\u001b[0m\u001b[1;33m:\u001b[0m \u001b[1;36m2\u001b[0m \u001b[1;33m*\u001b[0m \u001b[0msampling_rate_hz\u001b[0m\u001b[1;33m]\u001b[0m\u001b[1;33m,\u001b[0m \u001b[0msweepY\u001b[0m\u001b[1;33m[\u001b[0m\u001b[0msampling_rate_hz\u001b[0m\u001b[1;33m:\u001b[0m \u001b[1;36m2\u001b[0m \u001b[1;33m*\u001b[0m \u001b[0msampling_rate_hz\u001b[0m\u001b[1;33m]\u001b[0m\u001b[1;33m,\u001b[0m \u001b[0mlabel\u001b[0m \u001b[1;33m=\u001b[0m \u001b[1;34m'vel'\u001b[0m\u001b[1;33m)\u001b[0m\u001b[1;33m\u001b[0m\u001b[1;33m\u001b[0m\u001b[0m\n\u001b[0;32m      2\u001b[0m \u001b[0mstep\u001b[0m \u001b[1;33m=\u001b[0m \u001b[1;36m100\u001b[0m\u001b[1;33m\u001b[0m\u001b[1;33m\u001b[0m\u001b[0m\n\u001b[1;32m----> 3\u001b[1;33m \u001b[0macceleration\u001b[0m \u001b[1;33m=\u001b[0m \u001b[0mnp\u001b[0m\u001b[1;33m.\u001b[0m\u001b[0mdiff\u001b[0m\u001b[1;33m(\u001b[0m\u001b[0maverage_downsampler\u001b[0m\u001b[1;33m(\u001b[0m\u001b[0msweepY\u001b[0m\u001b[1;33m,\u001b[0m \u001b[0mstep\u001b[0m \u001b[1;33m=\u001b[0m \u001b[0mstep\u001b[0m\u001b[1;33m)\u001b[0m\u001b[1;33m)\u001b[0m \u001b[1;33m*\u001b[0m \u001b[0msampling_rate_hz\u001b[0m\u001b[1;33m/\u001b[0m\u001b[0mstep\u001b[0m\u001b[1;33m\u001b[0m\u001b[1;33m\u001b[0m\u001b[0m\n\u001b[0m\u001b[0;32m      4\u001b[0m \u001b[0mplt\u001b[0m\u001b[1;33m.\u001b[0m\u001b[0mxlabel\u001b[0m\u001b[1;33m(\u001b[0m\u001b[1;34m'Time (sec)'\u001b[0m\u001b[1;33m)\u001b[0m\u001b[1;33m\u001b[0m\u001b[1;33m\u001b[0m\u001b[0m\n\u001b[0;32m      5\u001b[0m \u001b[0mplt\u001b[0m\u001b[1;33m.\u001b[0m\u001b[0mylabel\u001b[0m\u001b[1;33m(\u001b[0m\u001b[1;34m'$m/s$'\u001b[0m\u001b[1;33m)\u001b[0m\u001b[1;33m\u001b[0m\u001b[1;33m\u001b[0m\u001b[0m\n",
      "\u001b[1;31mNameError\u001b[0m: name 'average_downsampler' is not defined"
     ]
    },
    {
     "data": {
      "image/png": "[encoded data removed]",
      "text/plain": [
       "<Figure size 432x288 with 1 Axes>"
      ]
     },
     "metadata": {
      "needs_background": "light"
     },
     "output_type": "display_data"
    }
   ],
   "source": [
    "plt.plot(sweepX[sampling_rate_hz: 2 * sampling_rate_hz], sweepY[sampling_rate_hz: 2 * sampling_rate_hz], label = 'vel')\n",
    "step = 100\n",
    "acceleration = np.diff(average_downsampler(sweepY, step = step)) * sampling_rate_hz/step\n",
    "plt.xlabel('Time (sec)')\n",
    "plt.ylabel('$m/s$')\n",
    "plt.title('Treadmill Velocity Trace')\n",
    "plt.savefig('vel_test.png')\n",
    "plt.show()\n",
    "\n",
    "\n",
    "plt.plot(np.arange(sampling_rate_hz//step)/(sampling_rate_hz//step) + 1, acceleration[sampling_rate_hz//step: 2 * sampling_rate_hz//step], label = 'acc')\n",
    "plt.xlabel('Time (sec)')\n",
    "plt.ylabel('$m/s^2$')\n",
    "plt.title('Treadmill Acceleration Trace')\n",
    "plt.legend()\n",
    "plt.savefig('acc_trace.png')\n",
    "plt.show()"
   ]
  },
  {
   "cell_type": "code",
   "execution_count": 30,
   "id": "secure-sunset",
   "metadata": {},
   "outputs": [
    {
     "data": {
      "image/png": "[encoded data removed]",
      "text/plain": [
       "<Figure size 432x288 with 1 Axes>"
      ]
     },
     "metadata": {
      "needs_background": "light"
     },
     "output_type": "display_data"
    }
   ],
   "source": [
    "plt.plot(np.arange(sampling_rate_hz//10) + sampling_rate_hz//10, acceleration[sampling_rate_hz//10: 2 * sampling_rate_hz//10], label = 'acc')\n",
    "plt.xlabel('Time (sec)')\n",
    "plt.ylabel('$m/s^2$')\n",
    "plt.title('Treadmill Acceleration Trace')\n",
    "plt.savefig('acc_trace.png')\n",
    "plt.show()"
   ]
  },
  {
   "cell_type": "code",
   "execution_count": 31,
   "id": "generous-twins",
   "metadata": {},
   "outputs": [
    {
     "data": {
      "text/plain": [
       "Text(0.5, 1.0, 'Treadmill Acceleration Trace')"
      ]
     },
     "execution_count": 31,
     "metadata": {},
     "output_type": "execute_result"
    },
    {
     "data": {
      "image/png": "[encoded data removed]",
      "text/plain": [
       "<Figure size 432x288 with 1 Axes>"
      ]
     },
     "metadata": {
      "needs_background": "light"
     },
     "output_type": "display_data"
    }
   ],
   "source": [
    "#plt.plot(sweepX, sweepY)\n",
    "acceleration = np.diff(sweepY) * sampling_rate_hz\n",
    "plt.plot(sweepX[: -1], acceleration)\n",
    "plt.xlabel('Time (sec)')\n",
    "plt.ylabel('$m/s^2$')\n",
    "plt.title('Treadmill Acceleration Trace')\n"
   ]
  },
  {
   "cell_type": "markdown",
   "id": "military-implement",
   "metadata": {},
   "source": [
    "In the plot above, we plot Voltage against Seconds, where we see a single movement bout. Let's see what happens if we just start and end a bout whenever Voltage is above .1"
   ]
  },
  {
   "cell_type": "code",
   "execution_count": 32,
   "id": "preceding-institute",
   "metadata": {},
   "outputs": [
    {
     "data": {
      "image/png": "[encoded data removed]",
      "text/plain": [
       "<Figure size 432x288 with 1 Axes>"
      ]
     },
     "metadata": {
      "needs_background": "light"
     },
     "output_type": "display_data"
    }
   ],
   "source": [
    "\n",
    "#above_cutoff = data['Channel_05'] > voltage_cutoff\n",
    "above_cutoff = sweepY > voltage_cutoff\n",
    "plt.vlines(np.arange(sampling_rate_hz * 30)[above_cutoff[:sampling_rate_hz * 30].reshape(-1)]/sampling_rate_hz, ymin = 0, ymax= 1.2, color = 'orange')\n",
    "plt.plot(np.arange(sampling_rate_hz* 30)/sampling_rate_hz, np.abs(sweepY[:sampling_rate_hz * 30]))\n",
    "plt.title('First 30 Seconds of Velocity Encoder Data')\n",
    "plt.xlabel('Seconds')\n",
    "plt.ylabel('Voltage')\n",
    "#plt.savefig('example.png')\n",
    "plt.show()"
   ]
  },
  {
   "cell_type": "code",
   "execution_count": 33,
   "id": "cardiovascular-ownership",
   "metadata": {},
   "outputs": [
    {
     "data": {
      "image/png": "[encoded data removed]",
      "text/plain": [
       "<Figure size 432x288 with 1 Axes>"
      ]
     },
     "metadata": {
      "needs_background": "light"
     },
     "output_type": "display_data"
    }
   ],
   "source": [
    "plot_trace(145, 146, sampling_rate_hz, above_cutoff, sweepY, save_name = '')"
   ]
  },
  {
   "cell_type": "markdown",
   "id": "oriental-source",
   "metadata": {},
   "source": [
    "That actually works pretty well, but we have to account for those small gaps - how do we do that? We need to implement the minimum length of time our velocity encoder has to fall below the threshold. This is encoded by the `minimum_duration`. To get the number of timesteps that we need to look out for, we need to multiply `minimum_duration` by `sampling_rate_hz`. Then, for every `TRUE` value in `above_cutoff` (this is a boolean array with `TRUE` if it's above the cutoff and `FALSE` if it's below), we check if the next `minimum_duration` * `sampling_rate_hz` time steps are `FALSE`. If they are, we can stop the movement epoch. If they aren't, we continue until the next `TRUE`, where we start checking again. "
   ]
  },
  {
   "cell_type": "code",
   "execution_count": 52,
   "id": "lovely-phase",
   "metadata": {},
   "outputs": [],
   "source": [
    "above_cutoff = sweepY > voltage_cutoff\n",
    "plt.vlines(np.arange(sampling_rate_hz * 30)[above_cutoff[:sampling_rate_hz * 30].reshape(-1)]/sampling_rate_hz, ymin = 0, ymax= 1.2, color = 'orange')\n",
    "plt.plot(np.arange(sampling_rate_hz* 30)/sampling_rate_hz, np.abs(sweepY[:sampling_rate_hz * 30]))\n",
    "plt.title('First 30 Seconds of Velocity Encoder Data')\n",
    "plt.xlabel('Seconds')\n",
    "plt.ylabel('Voltage')\n",
    "#plt.savefig('example.png')\n",
    "plt.show()"
   ]
  },
  {
   "cell_type": "code",
   "execution_count": 53,
   "id": "sitting-today",
   "metadata": {},
   "outputs": [],
   "source": [
    "True_followed_by_false = above_cutoff[:-1] * (1 - above_cutoff[1:]) # this gives us an array of boolean values whenever there is a True followed by a False\n",
    "indices = np.where(True_followed_by_false == 1)[0] + 1 # this converts the array of boolean values to a list of indices\n",
    "for i, idx in enumerate(indices): \n",
    "    \"\"\"\n",
    "    We want to check if the next minumum_duration of seconds are\n",
    "    all False\n",
    "    \"\"\"\n",
    "    end_of_array = above_cutoff.shape[0] - 1\n",
    "    curr_slice = above_cutoff[idx: min(idx + int(minumum_duration * sampling_rate_hz), end_of_array)]\n",
    "    if np.sum(curr_slice) > 0: # if there are more than 10 times it breaks the cutoff \n",
    "        if i + 1 != len(indices):\n",
    "            end = min((minumum_duration * sampling_rate_hz + 1), (indices[i + 1] - idx))\n",
    "        else: \n",
    "            end = min((minumum_duration * sampling_rate_hz + 1), len(above_cutoff) - idx - 1)\n",
    "        above_cutoff[idx: idx + int(end)] = np.array([True] * int(end))\n",
    "        \n"
   ]
  },
  {
   "cell_type": "code",
   "execution_count": 54,
   "id": "united-sample",
   "metadata": {},
   "outputs": [],
   "source": [
    "def plot_trace(start, end, sampling_rate_hz, above_cutoff, sweepY, save_name = ''):\n",
    "    #%matplotlib widget\n",
    "    %matplotlib inline\n",
    "    start_idx = sampling_rate_hz  * start\n",
    "    end_idx = sampling_rate_hz * end\n",
    "    xaxis = np.arange(sampling_rate_hz * (end - start))\n",
    "    plt.vlines(start + xaxis[above_cutoff[start_idx:end_idx].reshape(-1)]/sampling_rate_hz, ymin = 0, ymax= .1, color = 'orange')\n",
    "    plt.plot(start + xaxis/sampling_rate_hz, sweepY[start_idx:end_idx], label = 'Signal')\n",
    "    plt.title('Velocity Encoder Data from {} to {} seconds'.format(start, end))\n",
    "    plt.xlabel('Seconds')\n",
    "    #plt.ion()\n",
    "    plt.ylabel('Voltage')\n",
    "    plt.legend()\n",
    "    if save_name != '':\n",
    "        plt.savefig(save_name)\n",
    "\n",
    "    plt.show()"
   ]
  },
  {
   "cell_type": "markdown",
   "id": "peaceful-kitchen",
   "metadata": {},
   "source": [
    "The function `plot_trace` takes in two arguments in seconds: start and end - these are currently set to 0 and 30 in the block below. The rest of the arguments won't need to be changed."
   ]
  },
  {
   "cell_type": "code",
   "execution_count": 55,
   "id": "stable-parliament",
   "metadata": {},
   "outputs": [
    {
     "data": {
      "image/png": "[encoded data removed]",
      "text/plain": [
       "<Figure size 432x288 with 1 Axes>"
      ]
     },
     "metadata": {
      "needs_background": "light"
     },
     "output_type": "display_data"
    }
   ],
   "source": [
    "%matplotlib inline\n",
    "plot_trace(0, 240, sampling_rate_hz, above_cutoff, sweepY, save_name = '')"
   ]
  },
  {
   "cell_type": "code",
   "execution_count": 56,
   "id": "heavy-jersey",
   "metadata": {},
   "outputs": [
    {
     "data": {
      "text/plain": [
       "(30000,)"
      ]
     },
     "execution_count": 56,
     "metadata": {},
     "output_type": "execute_result"
    }
   ],
   "source": [
    "above_cutoff[0*sampling_rate_hz:30*sampling_rate_hz].shape"
   ]
  },
  {
   "cell_type": "markdown",
   "id": "competent-court",
   "metadata": {},
   "source": [
    "# Some preliminary before metrics\n",
    "\n",
    "Before we start calulating metrics, let's make life a bit easier for us. We want to convert our boolean arrays to sets of indices. Effectively, currently, we have an array that is `True` for every time point that is in the epoch and `False` otherwise. Instead, we want sets of indices marking the start of every bout and the end of every bout. This would be structured: `[(start, end), (start, end)]`"
   ]
  },
  {
   "cell_type": "code",
   "execution_count": 57,
   "id": "opponent-colony",
   "metadata": {},
   "outputs": [],
   "source": [
    "from itertools import accumulate, groupby\n",
    "if above_cutoff[0]:\n",
    "    \n",
    "    indices = [0] + list(accumulate(sum(1 for _ in g) for _,g in groupby(above_cutoff)))\n",
    "else:\n",
    "    indices = list(accumulate(sum(1 for _ in g) for _,g in groupby(above_cutoff)))\n",
    "\n",
    "to_remove = []\n",
    "for idx in range(len(indices) - 1):\n",
    "    if idx % 2 == 1 and indices[idx + 1] - indices[idx] < 0:\n",
    "        to_remove.append(idx)\n",
    "        to_remove.append(idx + 1)\n",
    "to_remove.append(len(indices) - 1)\n",
    "\n",
    "counter = 0\n",
    "for idx in to_remove:\n",
    "    \n",
    "    indices.pop(idx - counter)\n",
    "    counter += 1\n",
    "    \n",
    "\n"
   ]
  },
  {
   "cell_type": "code",
   "execution_count": 58,
   "id": "recorded-teddy",
   "metadata": {},
   "outputs": [
    {
     "data": {
      "text/plain": [
       "[148378,\n",
       " 148768,\n",
       " 151358,\n",
       " 153108,\n",
       " 155378,\n",
       " 155434,\n",
       " 163164,\n",
       " 163206,\n",
       " 167777,\n",
       " 173867,\n",
       " 175947,\n",
       " 176007,\n",
       " 188606,\n",
       " 189166,\n",
       " 190952,\n",
       " 193751,\n",
       " 195393,\n",
       " 196056,\n",
       " 208912,\n",
       " 209025,\n",
       " 210545,\n",
       " 218555,\n",
       " 235134,\n",
       " 235234,\n",
       " 238524,\n",
       " 239155]"
      ]
     },
     "execution_count": 58,
     "metadata": {},
     "output_type": "execute_result"
    }
   ],
   "source": [
    "indices"
   ]
  },
  {
   "cell_type": "markdown",
   "id": "arbitrary-worst",
   "metadata": {},
   "source": [
    "Here's an interactive plot - this might error on other computers, let me know if you want to run this and it doesn't work"
   ]
  },
  {
   "cell_type": "code",
   "execution_count": 59,
   "id": "static-spiritual",
   "metadata": {},
   "outputs": [
    {
     "data": {
      "application/vnd.jupyter.widget-view+json": {
       "model_id": "6685995e94564623bda9144694b39332",
       "version_major": 2,
       "version_minor": 0
      },
      "text/plain": [
       "Canvas(toolbar=Toolbar(toolitems=[('Home', 'Reset original view', 'home', 'home'), ('Back', 'Back to previous …"
      ]
     },
     "metadata": {},
     "output_type": "display_data"
    },
    {
     "data": {
      "text/plain": [
       "[<matplotlib.lines.Line2D at 0x2650392fa48>]"
      ]
     },
     "execution_count": 59,
     "metadata": {},
     "output_type": "execute_result"
    }
   ],
   "source": [
    "\n",
    "%matplotlib widget\n",
    "indices_seconds = [i/sampling_rate_hz for i in indices]\n",
    "plt.vlines(indices_seconds, color = 'orange', ymin = 0, ymax = .1)    \n",
    "plt.plot(sweepX, sweepY)"
   ]
  },
  {
   "cell_type": "markdown",
   "id": "through-migration",
   "metadata": {},
   "source": [
    "Let's convert our continuous velocity trace to a continous acceleration trace. This should just be the first difference. IE. every element subtracted from every subsequent element (over time which is just one)."
   ]
  },
  {
   "cell_type": "code",
   "execution_count": 60,
   "id": "answering-dallas",
   "metadata": {},
   "outputs": [
    {
     "data": {
      "text/plain": [
       "[<matplotlib.lines.Line2D at 0x265039e3348>]"
      ]
     },
     "execution_count": 60,
     "metadata": {},
     "output_type": "execute_result"
    },
    {
     "data": {
      "image/png": "[encoded data removed]",
      "text/plain": [
       "<Figure size 432x288 with 1 Axes>"
      ]
     },
     "metadata": {
      "needs_background": "light"
     },
     "output_type": "display_data"
    }
   ],
   "source": [
    "acceleration = np.diff(sweepY) * sampling_rate_hz\n",
    "%matplotlib inline\n",
    "plt.plot(sweepX[:-1], acceleration)"
   ]
  },
  {
   "cell_type": "code",
   "execution_count": null,
   "id": "perceived-environment",
   "metadata": {},
   "outputs": [],
   "source": []
  },
  {
   "cell_type": "code",
   "execution_count": 61,
   "id": "surprised-taiwan",
   "metadata": {},
   "outputs": [],
   "source": [
    "def duration_of_all_bouts(indices):\n",
    "    durations = []\n",
    "    for i in range(len(indices) - 1):\n",
    "        if i%2 == 0:\n",
    "            start, end = indices[i], indices[i + 1]\n",
    "            start = start/sampling_rate_hz\n",
    "            end = end/sampling_rate_hz\n",
    "            durations.append(end - start)\n",
    "        \n",
    "    return durations"
   ]
  },
  {
   "cell_type": "code",
   "execution_count": 62,
   "id": "renewable-notification",
   "metadata": {},
   "outputs": [],
   "source": [
    "def max_velocity_bouts(indices):\n",
    "    max_vels = []\n",
    "    for i in range(len(indices) - 1):\n",
    "        if i%2 == 0:\n",
    "            start, end = indices[i], indices[i + 1]\n",
    "            max_vels.append(max(sweepY[int(start): int(end)]) * 100)\n",
    "\n",
    "    return max_vels"
   ]
  },
  {
   "cell_type": "code",
   "execution_count": 63,
   "id": "comparative-debate",
   "metadata": {},
   "outputs": [],
   "source": [
    "def avg_velocity_bouts(indices):\n",
    "    avg_vels = []\n",
    "    for i in range(len(indices) - 1):\n",
    "        if i%2 == 0:\n",
    "            start, end = indices[i], indices[i + 1]\n",
    "            avg_vels.append(np.average(sweepY[int(start): int(end)]) * 100)\n",
    "    return avg_vels"
   ]
  },
  {
   "cell_type": "code",
   "execution_count": 64,
   "id": "collectible-genre",
   "metadata": {},
   "outputs": [],
   "source": [
    "def avg_velocity(sweepY):\n",
    "    return np.nanmean(sweepY) * 100\n",
    "def max_velocity(sweepY):\n",
    "    return max(sweepY) * 100\n"
   ]
  },
  {
   "cell_type": "markdown",
   "id": "engaging-upset",
   "metadata": {},
   "source": [
    "### For acceleration, it looks like our data is a bit oversampled, so I've added a quick downsampler. The actual data is 10x less sampled so maybe it'll be fine without this, so I'll add examples with and without "
   ]
  },
  {
   "cell_type": "code",
   "execution_count": 65,
   "id": "gorgeous-update",
   "metadata": {},
   "outputs": [],
   "source": [
    "def average_downsampler(data, step = 10):\n",
    "    if step == 0: \n",
    "        return data\n",
    "    return np.array([np.average(data[i:i+step]) for i in range(0, len(data), step)])\n",
    "\n",
    "def average_downsampler_numpy(data, step = 10):\n",
    "    data = np.append(data, [np.nan] * (step - len(data) % step) )\n",
    "    data = data.reshape(-1, step)\n",
    "    return np.nanmean(data, axis = 1)"
   ]
  },
  {
   "cell_type": "code",
   "execution_count": 66,
   "id": "curious-orange",
   "metadata": {},
   "outputs": [],
   "source": [
    "def get_acceleration_vector(velocity, sampling_rate_hz, downsampling_factor = 1):\n",
    "    \"\"\"\n",
    "    This gets the acceleration vector of a velocity vector by doing the first difference.\n",
    "    It applies an averaging downsampler. \n",
    "    Note: the acceration vector will always be 1 less than the input velocity vector, since\n",
    "    it's using the first difference. Note: having a downsampling factor of 1, does nothing. \n",
    "    It also takes in the sampling_rate in hz\n",
    "    \"\"\"\n",
    "    return np.diff(average_downsampler_numpy(velocity, step = downsampling_factor)) * (sampling_rate_hz/downsampling_factor)"
   ]
  },
  {
   "cell_type": "code",
   "execution_count": 67,
   "id": "unable-camel",
   "metadata": {},
   "outputs": [],
   "source": [
    "def avg_acceleration(sweepY, downsampling_factor = 10):\n",
    "    acceleration = get_acceleration_vector(sweepY, sampling_rate_hz, downsampling_factor = 1)\n",
    "    return np.nanmean(acceleration) * 100\n",
    "def max_acceleration(sweepY, downsampling_factor = 10):\n",
    "    acceleration = get_acceleration_vector(sweepY, sampling_rate_hz, downsampling_factor = 1)\n",
    "    return max(acceleration) * 100\n",
    "\n",
    "def max_acc_bouts(indices, downsampling_factor = 10):\n",
    "    max_acc = []\n",
    "    acceleration = get_acceleration_vector(sweepY, sampling_rate_hz, downsampling_factor)\n",
    "    for i in range(len(indices) - 1):\n",
    "        if i % 2 == 0:\n",
    "            start, end = indices[i], indices[i + 1] \n",
    "            start, end = int(start//downsampling_factor), int(end//downsampling_factor)\n",
    "            if start == end:\n",
    "                continue\n",
    "            max_acc.append(max(acceleration[start: end]) * 100)\n",
    "        \n",
    "    return max_acc\n",
    "\n",
    "def avg_acc_bouts(indices, downsampling_factor = 10):\n",
    "    avg_acc = []\n",
    "    acceleration = get_acceleration_vector(sweepY, sampling_rate_hz, downsampling_factor)\n",
    "    for i in range(len(indices) - 1):\n",
    "        if i % 2 == 0:\n",
    "            start, end = indices[i], indices[i + 1] - 1\n",
    "            start, end = int(start//downsampling_factor), int(end//downsampling_factor)\n",
    "            if start == end:\n",
    "                print('happens')\n",
    "                continue\n",
    "            avg_acc.append(np.average(acceleration[int(start): int(end)]) * 100)\n",
    "    return avg_acc\n",
    "\n",
    "def avg_acceleration(sweepY, downsampling_factor = 10):\n",
    "    acceleration = get_acceleration_vector(sweepY, sampling_rate_hz, downsampling_factor)\n",
    "    return np.nanmean(acceleration) * 100\n",
    "def max_acceleration(sweepY, downsampling_factor = 10):\n",
    "    acceleration = get_acceleration_vector(sweepY, sampling_rate_hz, downsampling_factor)\n",
    "    return max(acceleration) * 100"
   ]
  },
  {
   "cell_type": "markdown",
   "id": "hollywood-fraud",
   "metadata": {},
   "source": [
    "# Velocity\n",
    "First, let's look at max velocity and average velocity for both bouts and overall, everything is in $cm/sec$"
   ]
  },
  {
   "cell_type": "code",
   "execution_count": 68,
   "id": "cordless-kelly",
   "metadata": {},
   "outputs": [
    {
     "data": {
      "text/plain": [
       "9.735107421875"
      ]
     },
     "execution_count": 68,
     "metadata": {},
     "output_type": "execute_result"
    }
   ],
   "source": [
    "max_velocity(sweepY)"
   ]
  },
  {
   "cell_type": "code",
   "execution_count": 69,
   "id": "missing-solid",
   "metadata": {},
   "outputs": [
    {
     "data": {
      "text/plain": [
       "-0.018079791334457695"
      ]
     },
     "execution_count": 69,
     "metadata": {},
     "output_type": "execute_result"
    }
   ],
   "source": [
    "avg_velocity(sweepY)"
   ]
  },
  {
   "cell_type": "code",
   "execution_count": 73,
   "id": "practical-words",
   "metadata": {},
   "outputs": [
    {
     "data": {
      "text/plain": [
       "[2.899169921875,\n",
       " 3.265380859375,\n",
       " 1.15966796875,\n",
       " 0.91552734375,\n",
       " 9.735107421875,\n",
       " 1.708984375,\n",
       " 1.5869140625,\n",
       " 6.40869140625,\n",
       " 6.744384765625,\n",
       " 1.129150390625,\n",
       " 8.9111328125,\n",
       " 1.64794921875,\n",
       " 1.739501953125]"
      ]
     },
     "execution_count": 73,
     "metadata": {},
     "output_type": "execute_result"
    }
   ],
   "source": [
    "max_velocity_bouts(indices)"
   ]
  },
  {
   "cell_type": "code",
   "execution_count": 74,
   "id": "fancy-shareware",
   "metadata": {},
   "outputs": [
    {
     "data": {
      "text/plain": [
       "[1.5115590766072273,\n",
       " 0.8839285932481289,\n",
       " 1.009259931743145,\n",
       " 0.8312406949698925,\n",
       " 1.9764315336942673,\n",
       " 1.2654622085392475,\n",
       " 0.58135986328125,\n",
       " 0.9758428670465946,\n",
       " 0.9781274944543839,\n",
       " 0.9422639384865761,\n",
       " 1.732381246984005,\n",
       " 1.273498497903347,\n",
       " 0.44320616871118546]"
      ]
     },
     "execution_count": 74,
     "metadata": {},
     "output_type": "execute_result"
    }
   ],
   "source": [
    "avg_velocity_bouts(indices)"
   ]
  },
  {
   "cell_type": "markdown",
   "id": "speaking-marina",
   "metadata": {},
   "source": [
    "# Acceleration\n",
    "Now let's move on to acceleration. All acceleration metrics have a variable called `downsampling_factor`, which will change how downsampled the acceleration vector is. `downsampling_factor = 1` keeps the original vector. Everything is in cm/sec^2."
   ]
  },
  {
   "cell_type": "code",
   "execution_count": 75,
   "id": "capable-compensation",
   "metadata": {},
   "outputs": [
    {
     "data": {
      "text/plain": [
       "61.700439453125"
      ]
     },
     "execution_count": 75,
     "metadata": {},
     "output_type": "execute_result"
    }
   ],
   "source": [
    "max_acceleration(sweepY, downsampling_factor = 100)"
   ]
  },
  {
   "cell_type": "code",
   "execution_count": 76,
   "id": "incorporated-niagara",
   "metadata": {},
   "outputs": [
    {
     "data": {
      "text/plain": [
       "-1.165444023029789e-05"
      ]
     },
     "execution_count": 76,
     "metadata": {},
     "output_type": "execute_result"
    }
   ],
   "source": [
    "avg_acceleration(sweepY, downsampling_factor = 100)"
   ]
  },
  {
   "cell_type": "code",
   "execution_count": 77,
   "id": "negative-irish",
   "metadata": {},
   "outputs": [
    {
     "data": {
      "text/plain": [
       "[34.7900390625,\n",
       " 44.5556640625,\n",
       " 18.61572265625,\n",
       " 8.544921875,\n",
       " 107.72705078125,\n",
       " 33.87451171875,\n",
       " 29.9072265625,\n",
       " 63.78173828125,\n",
       " 85.14404296875,\n",
       " 12.51220703125,\n",
       " 118.10302734375,\n",
       " 20.1416015625,\n",
       " 37.53662109375]"
      ]
     },
     "execution_count": 77,
     "metadata": {},
     "output_type": "execute_result"
    }
   ],
   "source": [
    "max_acc_bouts(indices, downsampling_factor = 10)"
   ]
  },
  {
   "cell_type": "code",
   "execution_count": 78,
   "id": "scheduled-complex",
   "metadata": {},
   "outputs": [
    {
     "data": {
      "text/plain": [
       "[0.09390024038461539,\n",
       " 0.2284458705357143,\n",
       " -0.4069010416666667,\n",
       " -0.152587890625,\n",
       " 0.011525522116174055,\n",
       " 0.762939453125,\n",
       " 0.09809221540178573,\n",
       " -0.029427664620535712,\n",
       " -0.21269827178030304,\n",
       " -0.055486505681818184,\n",
       " -0.007238876209425718,\n",
       " -2.44140625,\n",
       " -0.26157924107142855]"
      ]
     },
     "execution_count": 78,
     "metadata": {},
     "output_type": "execute_result"
    }
   ],
   "source": [
    "avg_acc_bouts(indices, downsampling_factor = 10)"
   ]
  },
  {
   "cell_type": "markdown",
   "id": "hispanic-pastor",
   "metadata": {},
   "source": [
    "# Duration\n",
    "\n",
    "Lastly, let's look at the duration of each of the bouts"
   ]
  },
  {
   "cell_type": "code",
   "execution_count": 79,
   "id": "forward-entertainment",
   "metadata": {},
   "outputs": [
    {
     "data": {
      "text/plain": [
       "[0.3900000000000148,\n",
       " 1.75,\n",
       " 0.056000000000011596,\n",
       " 0.04200000000000159,\n",
       " 6.090000000000003,\n",
       " 0.060000000000002274,\n",
       " 0.5600000000000023,\n",
       " 2.7990000000000066,\n",
       " 0.6630000000000109,\n",
       " 0.11299999999999955,\n",
       " 8.01000000000002,\n",
       " 0.10000000000002274,\n",
       " 0.6310000000000002]"
      ]
     },
     "execution_count": 79,
     "metadata": {},
     "output_type": "execute_result"
    }
   ],
   "source": [
    "duration_of_all_bouts(indices)"
   ]
  },
  {
   "cell_type": "markdown",
   "id": "tested-eagle",
   "metadata": {
    "heading_collapsed": true
   },
   "source": [
    "# Misc Plots"
   ]
  },
  {
   "cell_type": "code",
   "execution_count": 91,
   "id": "thirty-information",
   "metadata": {
    "hidden": true
   },
   "outputs": [
    {
     "data": {
      "image/png": "[encoded data removed]",
      "text/plain": [
       "<Figure size 432x288 with 1 Axes>"
      ]
     },
     "metadata": {
      "needs_background": "light"
     },
     "output_type": "display_data"
    }
   ],
   "source": [
    "%matplotlib inline\n",
    "plt.boxplot(max_velocity_bouts(indices))\n",
    "plt.title('Max Velocity Bouts')\n",
    "plt.ylabel('cm/sec')\n",
    "plt.show()"
   ]
  },
  {
   "cell_type": "code",
   "execution_count": 65,
   "id": "engaging-arkansas",
   "metadata": {
    "hidden": true
   },
   "outputs": [
    {
     "data": {
      "text/plain": [
       "Text(0, 0.5, 'cm/sec')"
      ]
     },
     "execution_count": 65,
     "metadata": {},
     "output_type": "execute_result"
    },
    {
     "data": {
      "image/png": "[encoded data removed]",
      "text/plain": [
       "<Figure size 432x288 with 1 Axes>"
      ]
     },
     "metadata": {
      "needs_background": "light"
     },
     "output_type": "display_data"
    }
   ],
   "source": [
    "%matplotlib inline\n",
    "plt.boxplot(avg_velocity_bouts(indices))\n",
    "plt.title('Avg Velocity Bouts')\n",
    "plt.ylabel('cm/sec')\n",
    "\n",
    "#avg_velocity_bouts(indices)"
   ]
  },
  {
   "cell_type": "code",
   "execution_count": 66,
   "id": "disciplinary-woman",
   "metadata": {
    "hidden": true
   },
   "outputs": [
    {
     "data": {
      "text/plain": [
       "Text(0, 0.5, 'Seconds')"
      ]
     },
     "execution_count": 66,
     "metadata": {},
     "output_type": "execute_result"
    },
    {
     "data": {
      "image/png": "[encoded data removed]",
      "text/plain": [
       "<Figure size 432x288 with 1 Axes>"
      ]
     },
     "metadata": {
      "needs_background": "light"
     },
     "output_type": "display_data"
    }
   ],
   "source": [
    "plt.boxplot(duration_of_all_bouts(indices))\n",
    "plt.title('Bout Durations')\n",
    "plt.ylabel('Seconds')"
   ]
  },
  {
   "cell_type": "code",
   "execution_count": null,
   "id": "heated-encyclopedia",
   "metadata": {
    "hidden": true
   },
   "outputs": [],
   "source": []
  }
 ],
 "metadata": {
  "kernelspec": {
   "display_name": "Python 3",
   "language": "python",
   "name": "python3"
  },
  "language_info": {
   "codemirror_mode": {
    "name": "ipython",
    "version": 3
   },
   "file_extension": ".py",
   "mimetype": "text/x-python",
   "name": "python",
   "nbconvert_exporter": "python",
   "pygments_lexer": "ipython3",
   "version": "3.7.9"
  }
 },
 "nbformat": 4,
 "nbformat_minor": 5
}
