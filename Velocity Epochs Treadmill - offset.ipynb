{
 "cells": [
  {
   "cell_type": "code",
   "execution_count": 1,
   "id": "reduced-quebec",
   "metadata": {},
   "outputs": [],
   "source": [
    "import numpy as np\n",
    "import pandas as pd\n",
    "import matplotlib.pyplot as plt\n",
    "from scipy.io import loadmat\n",
    "import pyabf\n",
    "import os\n",
    "%matplotlib inline"
   ]
  },
  {
   "cell_type": "markdown",
   "id": "attempted-market",
   "metadata": {},
   "source": [
    "# What do we want to do? \n",
    "We’ll need to create an operational definition of the \"bout:  \n",
    "\n",
    "1.) We’ll need to set a minimum threshold over baseline in which the bout begins. \n",
    "\n",
    "- Let’s start with 0.001V.  \n",
    "- Note: This may need to be actively adjusted per animal given variance in noise each day. \n",
    "\n",
    "2.) Once the threshold goes back to baseline (under threshold) we’ll have to set a minimum duration for how long it must stay under threshold for the bout to end.  \n",
    "\n",
    "- Let’s start with 0.5 seconds.  \n",
    "\n",
    " \n",
    "\n",
    "For analysis of each bout, we’ll want metrics generated for: \n",
    "\n",
    "1) Duration of bout \n",
    "\n",
    "2) Peak velocity \n",
    "\n",
    "3) AVG velocity \n",
    "\n",
    "4) Peak acceleration \n",
    "\n",
    "5) AVG acceleration \n",
    "\n",
    "\n",
    "# What does our data look like? \n",
    " ‘Channel_05’ is the raw velocity and ‘Channel_05_ts_step’ is the sampling frequency (1000 Hz, i.e. 1 ms, which should be the same for all files). 'Channel_05' should be a continuous trace. "
   ]
  },
  {
   "cell_type": "markdown",
   "id": "cardiovascular-retailer",
   "metadata": {},
   "source": [
    "Our modifiable parameters are below. These are `voltage_cutoff`, which is the minimum voltage we want to flag as movement, the `minimum_duration`, which is the minimum duration a bout has to under the cutoff in order to end a bout and `ts_step`, which is the time step in seconds (usually .0001, but different for the non-training data). "
   ]
  },
  {
   "cell_type": "code",
   "execution_count": 46,
   "id": "falling-ranch",
   "metadata": {},
   "outputs": [
    {
     "data": {
      "text/plain": [
       "10000"
      ]
     },
     "execution_count": 46,
     "metadata": {},
     "output_type": "execute_result"
    }
   ],
   "source": [
    "voltage_cutoff = 0.008 \n",
    "minumum_duration = 1\n",
    "ts_step = 0.0001 # Time step in seconds \n",
    "sampling_rate_hz = int(1/ts_step)\n",
    "offset = 2.5\n",
    "sampling_rate_hz"
   ]
  },
  {
   "cell_type": "markdown",
   "id": "pregnant-qatar",
   "metadata": {},
   "source": [
    "# Import Data \n",
    "First, we're going to use the pyabf library to read the abf file directly. Let's explore the output file a bit. "
   ]
  },
  {
   "cell_type": "code",
   "execution_count": 47,
   "id": "existing-commander",
   "metadata": {},
   "outputs": [
    {
     "name": "stdout",
     "output_type": "stream",
     "text": [
      "[2.5006 2.5003 2.5    ... 2.5006 2.5003 2.4997]\n",
      "[  0.       0.0001   0.0002 ... 170.4957 170.4958 170.4959]\n",
      "[0. 0. 0. ... 0. 0. 0.]\n"
     ]
    }
   ],
   "source": [
    "\n",
    "abf = pyabf.ABF('C:\\\\Users\\\\ameet\\\\Box Sync\\\\BevanLab\\\\Projects\\\\treadmill_analysis\\\\ABF FILES\\\\2019_12_11_0002.abf')\n",
    "abf.setSweep(sweepNumber = 0, channel = 1)\n",
    "print(abf.sweepY) # displays sweep data (ADC)\n",
    "print(abf.sweepX) # displays sweep times (seconds)\n",
    "print(abf.sweepC) # displays command waveform (DAC)\n",
    "sweepY = -(np.array(abf.sweepY) - offset)\n",
    "sweepX = np.array(abf.sweepX)"
   ]
  },
  {
   "cell_type": "code",
   "execution_count": null,
   "id": "piano-pennsylvania",
   "metadata": {},
   "outputs": [],
   "source": []
  },
  {
   "cell_type": "code",
   "execution_count": 48,
   "id": "transsexual-glasgow",
   "metadata": {},
   "outputs": [
    {
     "data": {
      "text/plain": [
       "[<matplotlib.lines.Line2D at 0x2f22d199580>]"
      ]
     },
     "execution_count": 48,
     "metadata": {},
     "output_type": "execute_result"
    },
    {
     "data": {
      "image/png": "[encoded data removed]",
      "text/plain": [
       "<Figure size 432x288 with 1 Axes>"
      ]
     },
     "metadata": {
      "needs_background": "light"
     },
     "output_type": "display_data"
    }
   ],
   "source": [
    "%matplotlib inline\n",
    "plt.plot(sweepX, sweepY)"
   ]
  },
  {
   "cell_type": "markdown",
   "id": "perceived-africa",
   "metadata": {},
   "source": []
  },
  {
   "cell_type": "code",
   "execution_count": null,
   "id": "referenced-parliament",
   "metadata": {},
   "outputs": [],
   "source": []
  },
  {
   "cell_type": "markdown",
   "id": "early-light",
   "metadata": {},
   "source": [
    "Now, let's explore our data file a little. "
   ]
  },
  {
   "cell_type": "code",
   "execution_count": 15,
   "id": "institutional-score",
   "metadata": {},
   "outputs": [
    {
     "ename": "NameError",
     "evalue": "name 'average_downsampler' is not defined",
     "output_type": "error",
     "traceback": [
      "\u001b[1;31m---------------------------------------------------------------------------\u001b[0m",
      "\u001b[1;31mNameError\u001b[0m                                 Traceback (most recent call last)",
      "\u001b[1;32m<ipython-input-15-1adb45650ec8>\u001b[0m in \u001b[0;36m<module>\u001b[1;34m\u001b[0m\n\u001b[0;32m      1\u001b[0m \u001b[0mplt\u001b[0m\u001b[1;33m.\u001b[0m\u001b[0mplot\u001b[0m\u001b[1;33m(\u001b[0m\u001b[0msweepX\u001b[0m\u001b[1;33m[\u001b[0m\u001b[0msampling_rate_hz\u001b[0m\u001b[1;33m:\u001b[0m \u001b[1;36m2\u001b[0m \u001b[1;33m*\u001b[0m \u001b[0msampling_rate_hz\u001b[0m\u001b[1;33m]\u001b[0m\u001b[1;33m,\u001b[0m \u001b[0msweepY\u001b[0m\u001b[1;33m[\u001b[0m\u001b[0msampling_rate_hz\u001b[0m\u001b[1;33m:\u001b[0m \u001b[1;36m2\u001b[0m \u001b[1;33m*\u001b[0m \u001b[0msampling_rate_hz\u001b[0m\u001b[1;33m]\u001b[0m\u001b[1;33m,\u001b[0m \u001b[0mlabel\u001b[0m \u001b[1;33m=\u001b[0m \u001b[1;34m'vel'\u001b[0m\u001b[1;33m)\u001b[0m\u001b[1;33m\u001b[0m\u001b[1;33m\u001b[0m\u001b[0m\n\u001b[0;32m      2\u001b[0m \u001b[0mstep\u001b[0m \u001b[1;33m=\u001b[0m \u001b[1;36m100\u001b[0m\u001b[1;33m\u001b[0m\u001b[1;33m\u001b[0m\u001b[0m\n\u001b[1;32m----> 3\u001b[1;33m \u001b[0macceleration\u001b[0m \u001b[1;33m=\u001b[0m \u001b[0mnp\u001b[0m\u001b[1;33m.\u001b[0m\u001b[0mdiff\u001b[0m\u001b[1;33m(\u001b[0m\u001b[0maverage_downsampler\u001b[0m\u001b[1;33m(\u001b[0m\u001b[0msweepY\u001b[0m\u001b[1;33m,\u001b[0m \u001b[0mstep\u001b[0m \u001b[1;33m=\u001b[0m \u001b[0mstep\u001b[0m\u001b[1;33m)\u001b[0m\u001b[1;33m)\u001b[0m \u001b[1;33m*\u001b[0m \u001b[0msampling_rate_hz\u001b[0m\u001b[1;33m/\u001b[0m\u001b[0mstep\u001b[0m\u001b[1;33m\u001b[0m\u001b[1;33m\u001b[0m\u001b[0m\n\u001b[0m\u001b[0;32m      4\u001b[0m \u001b[0mplt\u001b[0m\u001b[1;33m.\u001b[0m\u001b[0mxlabel\u001b[0m\u001b[1;33m(\u001b[0m\u001b[1;34m'Time (sec)'\u001b[0m\u001b[1;33m)\u001b[0m\u001b[1;33m\u001b[0m\u001b[1;33m\u001b[0m\u001b[0m\n\u001b[0;32m      5\u001b[0m \u001b[0mplt\u001b[0m\u001b[1;33m.\u001b[0m\u001b[0mylabel\u001b[0m\u001b[1;33m(\u001b[0m\u001b[1;34m'$m/s$'\u001b[0m\u001b[1;33m)\u001b[0m\u001b[1;33m\u001b[0m\u001b[1;33m\u001b[0m\u001b[0m\n",
      "\u001b[1;31mNameError\u001b[0m: name 'average_downsampler' is not defined"
     ]
    },
    {
     "data": {
      "image/png": "[encoded data removed]",
      "text/plain": [
       "<Figure size 432x288 with 1 Axes>"
      ]
     },
     "metadata": {
      "needs_background": "light"
     },
     "output_type": "display_data"
    }
   ],
   "source": [
    "plt.plot(sweepX[sampling_rate_hz: 2 * sampling_rate_hz], sweepY[sampling_rate_hz: 2 * sampling_rate_hz], label = 'vel')\n",
    "step = 100\n",
    "acceleration = np.diff(average_downsampler(sweepY, step = step)) * sampling_rate_hz/step\n",
    "plt.xlabel('Time (sec)')\n",
    "plt.ylabel('$m/s$')\n",
    "plt.title('Treadmill Velocity Trace')\n",
    "plt.savefig('vel_test.png')\n",
    "plt.show()\n",
    "\n",
    "\n",
    "plt.plot(np.arange(sampling_rate_hz//step)/(sampling_rate_hz//step) + 1, acceleration[sampling_rate_hz//step: 2 * sampling_rate_hz//step], label = 'acc')\n",
    "plt.xlabel('Time (sec)')\n",
    "plt.ylabel('$m/s^2$')\n",
    "plt.title('Treadmill Acceleration Trace')\n",
    "plt.legend()\n",
    "plt.savefig('acc_trace.png')\n",
    "plt.show()"
   ]
  },
  {
   "cell_type": "code",
   "execution_count": null,
   "id": "secure-sunset",
   "metadata": {},
   "outputs": [],
   "source": [
    "plt.plot(np.arange(sampling_rate_hz//10) + sampling_rate_hz//10, acceleration[sampling_rate_hz//10: 2 * sampling_rate_hz//10], label = 'acc')\n",
    "plt.xlabel('Time (sec)')\n",
    "plt.ylabel('$m/s^2$')\n",
    "plt.title('Treadmill Acceleration Trace')\n",
    "plt.savefig('acc_trace.png')\n",
    "plt.show()"
   ]
  },
  {
   "cell_type": "code",
   "execution_count": null,
   "id": "generous-twins",
   "metadata": {},
   "outputs": [],
   "source": [
    "#plt.plot(sweepX, sweepY)\n",
    "acceleration = np.diff(sweepY) * sampling_rate_hz\n",
    "plt.plot(sweepX[: -1], acceleration)\n",
    "plt.xlabel('Time (sec)')\n",
    "plt.ylabel('$m/s^2$')\n",
    "plt.title('Treadmill Acceleration Trace')\n"
   ]
  },
  {
   "cell_type": "markdown",
   "id": "military-implement",
   "metadata": {},
   "source": [
    "In the plot above, we plot Voltage against Seconds, where we see a single movement bout. Let's see what happens if we just start and end a bout whenever Voltage is above .1"
   ]
  },
  {
   "cell_type": "code",
   "execution_count": 16,
   "id": "preceding-institute",
   "metadata": {},
   "outputs": [
    {
     "data": {
      "image/png": "[encoded data removed]",
      "text/plain": [
       "<Figure size 432x288 with 1 Axes>"
      ]
     },
     "metadata": {
      "needs_background": "light"
     },
     "output_type": "display_data"
    }
   ],
   "source": [
    "\n",
    "#above_cutoff = data['Channel_05'] > voltage_cutoff\n",
    "above_cutoff = sweepY > voltage_cutoff\n",
    "plt.vlines(np.arange(sampling_rate_hz * 30)[above_cutoff[:sampling_rate_hz * 30].reshape(-1)]/sampling_rate_hz, ymin = 0, ymax= 1.2, color = 'orange')\n",
    "plt.plot(np.arange(sampling_rate_hz* 30)/sampling_rate_hz, np.abs(sweepY[:sampling_rate_hz * 30]))\n",
    "plt.title('First 30 Seconds of Velocity Encoder Data')\n",
    "plt.xlabel('Seconds')\n",
    "plt.ylabel('Voltage')\n",
    "#plt.savefig('example.png')\n",
    "plt.show()"
   ]
  },
  {
   "cell_type": "code",
   "execution_count": 17,
   "id": "cardiovascular-ownership",
   "metadata": {},
   "outputs": [
    {
     "ename": "NameError",
     "evalue": "name 'plot_trace' is not defined",
     "output_type": "error",
     "traceback": [
      "\u001b[1;31m---------------------------------------------------------------------------\u001b[0m",
      "\u001b[1;31mNameError\u001b[0m                                 Traceback (most recent call last)",
      "\u001b[1;32m<ipython-input-17-91fdd6dc7313>\u001b[0m in \u001b[0;36m<module>\u001b[1;34m\u001b[0m\n\u001b[1;32m----> 1\u001b[1;33m \u001b[0mplot_trace\u001b[0m\u001b[1;33m(\u001b[0m\u001b[1;36m145\u001b[0m\u001b[1;33m,\u001b[0m \u001b[1;36m146\u001b[0m\u001b[1;33m,\u001b[0m \u001b[0msampling_rate_hz\u001b[0m\u001b[1;33m,\u001b[0m \u001b[0mabove_cutoff\u001b[0m\u001b[1;33m,\u001b[0m \u001b[0msweepY\u001b[0m\u001b[1;33m,\u001b[0m \u001b[0msave_name\u001b[0m \u001b[1;33m=\u001b[0m \u001b[1;34m''\u001b[0m\u001b[1;33m)\u001b[0m\u001b[1;33m\u001b[0m\u001b[1;33m\u001b[0m\u001b[0m\n\u001b[0m",
      "\u001b[1;31mNameError\u001b[0m: name 'plot_trace' is not defined"
     ]
    }
   ],
   "source": [
    "plot_trace(145, 146, sampling_rate_hz, above_cutoff, sweepY, save_name = '')"
   ]
  },
  {
   "cell_type": "markdown",
   "id": "oriental-source",
   "metadata": {},
   "source": [
    "That actually works pretty well, but we have to account for those small gaps - how do we do that? We need to implement the minimum length of time our velocity encoder has to fall below the threshold. This is encoded by the `minimum_duration`. To get the number of timesteps that we need to look out for, we need to multiply `minimum_duration` by `sampling_rate_hz`. Then, for every `TRUE` value in `above_cutoff` (this is a boolean array with `TRUE` if it's above the cutoff and `FALSE` if it's below), we check if the next `minimum_duration` * `sampling_rate_hz` time steps are `FALSE`. If they are, we can stop the movement epoch. If they aren't, we continue until the next `TRUE`, where we start checking again. "
   ]
  },
  {
   "cell_type": "code",
   "execution_count": 18,
   "id": "lovely-phase",
   "metadata": {},
   "outputs": [
    {
     "data": {
      "image/png": "[encoded data removed]",
      "text/plain": [
       "<Figure size 432x288 with 1 Axes>"
      ]
     },
     "metadata": {
      "needs_background": "light"
     },
     "output_type": "display_data"
    }
   ],
   "source": [
    "above_cutoff = sweepY > voltage_cutoff\n",
    "plt.vlines(np.arange(sampling_rate_hz * 30)[above_cutoff[:sampling_rate_hz * 30].reshape(-1)]/sampling_rate_hz, ymin = 0, ymax= 1.2, color = 'orange')\n",
    "plt.plot(np.arange(sampling_rate_hz* 30)/sampling_rate_hz, np.abs(sweepY[:sampling_rate_hz * 30]))\n",
    "plt.title('First 30 Seconds of Velocity Encoder Data')\n",
    "plt.xlabel('Seconds')\n",
    "plt.ylabel('Voltage')\n",
    "#plt.savefig('example.png')\n",
    "plt.show()"
   ]
  },
  {
   "cell_type": "code",
   "execution_count": 19,
   "id": "sitting-today",
   "metadata": {},
   "outputs": [],
   "source": [
    "True_followed_by_false = above_cutoff[:-1] * (1 - above_cutoff[1:]) # this gives us an array of boolean values whenever there is a True followed by a False\n",
    "indices = np.where(True_followed_by_false == 1)[0] + 1 # this converts the array of boolean values to a list of indices\n",
    "for i, idx in enumerate(indices): \n",
    "    \"\"\"\n",
    "    We want to check if the next minumum_duration of seconds are\n",
    "    all False\n",
    "    \"\"\"\n",
    "    end_of_array = above_cutoff.shape[0] - 1\n",
    "    curr_slice = above_cutoff[idx: min(idx + int(minumum_duration * sampling_rate_hz), end_of_array)]\n",
    "    if np.sum(curr_slice) > 0: # if there are more than 10 times it breaks the cutoff \n",
    "        if i + 1 != len(indices):\n",
    "            end = min((minumum_duration * sampling_rate_hz + 1), (indices[i + 1] - idx))\n",
    "        else: \n",
    "            end = min((minumum_duration * sampling_rate_hz + 1), len(above_cutoff) - idx - 1)\n",
    "        above_cutoff[idx: idx + int(end)] = np.array([True] * int(end))\n",
    "        \n"
   ]
  },
  {
   "cell_type": "code",
   "execution_count": 20,
   "id": "united-sample",
   "metadata": {},
   "outputs": [],
   "source": [
    "def plot_trace(start, end, sampling_rate_hz, above_cutoff, sweepY, save_name = ''):\n",
    "    #%matplotlib widget\n",
    "    %matplotlib inline\n",
    "    start_idx = sampling_rate_hz  * start\n",
    "    end_idx = sampling_rate_hz * end\n",
    "    xaxis = np.arange(sampling_rate_hz * (end - start))\n",
    "    plt.vlines(start + xaxis[above_cutoff[start_idx:end_idx].reshape(-1)]/sampling_rate_hz, ymin = 0, ymax= .1, color = 'orange')\n",
    "    plt.plot(start + xaxis/sampling_rate_hz, sweepY[start_idx:end_idx], label = 'Signal')\n",
    "    plt.title('Velocity Encoder Data from {} to {} seconds'.format(start, end))\n",
    "    plt.xlabel('Seconds')\n",
    "    #plt.ion()\n",
    "    plt.ylabel('Voltage')\n",
    "    plt.legend()\n",
    "    if save_name != '':\n",
    "        plt.savefig(save_name)\n",
    "\n",
    "    plt.show()"
   ]
  },
  {
   "cell_type": "markdown",
   "id": "peaceful-kitchen",
   "metadata": {},
   "source": [
    "The function `plot_trace` takes in two arguments in seconds: start and end - these are currently set to 0 and 30 in the block below. The rest of the arguments won't need to be changed."
   ]
  },
  {
   "cell_type": "code",
   "execution_count": 21,
   "id": "stable-parliament",
   "metadata": {},
   "outputs": [
    {
     "ename": "IndexError",
     "evalue": "boolean index did not match indexed array along dimension 0; dimension is 2400000 but corresponding boolean dimension is 1704960",
     "output_type": "error",
     "traceback": [
      "\u001b[1;31m---------------------------------------------------------------------------\u001b[0m",
      "\u001b[1;31mIndexError\u001b[0m                                Traceback (most recent call last)",
      "\u001b[1;32m<ipython-input-21-a98f063c0119>\u001b[0m in \u001b[0;36m<module>\u001b[1;34m\u001b[0m\n\u001b[0;32m      1\u001b[0m \u001b[0mget_ipython\u001b[0m\u001b[1;33m(\u001b[0m\u001b[1;33m)\u001b[0m\u001b[1;33m.\u001b[0m\u001b[0mrun_line_magic\u001b[0m\u001b[1;33m(\u001b[0m\u001b[1;34m'matplotlib'\u001b[0m\u001b[1;33m,\u001b[0m \u001b[1;34m'inline'\u001b[0m\u001b[1;33m)\u001b[0m\u001b[1;33m\u001b[0m\u001b[1;33m\u001b[0m\u001b[0m\n\u001b[1;32m----> 2\u001b[1;33m \u001b[0mplot_trace\u001b[0m\u001b[1;33m(\u001b[0m\u001b[1;36m0\u001b[0m\u001b[1;33m,\u001b[0m \u001b[1;36m240\u001b[0m\u001b[1;33m,\u001b[0m \u001b[0msampling_rate_hz\u001b[0m\u001b[1;33m,\u001b[0m \u001b[0mabove_cutoff\u001b[0m\u001b[1;33m,\u001b[0m \u001b[0msweepY\u001b[0m\u001b[1;33m,\u001b[0m \u001b[0msave_name\u001b[0m \u001b[1;33m=\u001b[0m \u001b[1;34m''\u001b[0m\u001b[1;33m)\u001b[0m\u001b[1;33m\u001b[0m\u001b[1;33m\u001b[0m\u001b[0m\n\u001b[0m",
      "\u001b[1;32m<ipython-input-20-6d3fa3ef00fc>\u001b[0m in \u001b[0;36mplot_trace\u001b[1;34m(start, end, sampling_rate_hz, above_cutoff, sweepY, save_name)\u001b[0m\n\u001b[0;32m      5\u001b[0m     \u001b[0mend_idx\u001b[0m \u001b[1;33m=\u001b[0m \u001b[0msampling_rate_hz\u001b[0m \u001b[1;33m*\u001b[0m \u001b[0mend\u001b[0m\u001b[1;33m\u001b[0m\u001b[1;33m\u001b[0m\u001b[0m\n\u001b[0;32m      6\u001b[0m     \u001b[0mxaxis\u001b[0m \u001b[1;33m=\u001b[0m \u001b[0mnp\u001b[0m\u001b[1;33m.\u001b[0m\u001b[0marange\u001b[0m\u001b[1;33m(\u001b[0m\u001b[0msampling_rate_hz\u001b[0m \u001b[1;33m*\u001b[0m \u001b[1;33m(\u001b[0m\u001b[0mend\u001b[0m \u001b[1;33m-\u001b[0m \u001b[0mstart\u001b[0m\u001b[1;33m)\u001b[0m\u001b[1;33m)\u001b[0m\u001b[1;33m\u001b[0m\u001b[1;33m\u001b[0m\u001b[0m\n\u001b[1;32m----> 7\u001b[1;33m     \u001b[0mplt\u001b[0m\u001b[1;33m.\u001b[0m\u001b[0mvlines\u001b[0m\u001b[1;33m(\u001b[0m\u001b[0mstart\u001b[0m \u001b[1;33m+\u001b[0m \u001b[0mxaxis\u001b[0m\u001b[1;33m[\u001b[0m\u001b[0mabove_cutoff\u001b[0m\u001b[1;33m[\u001b[0m\u001b[0mstart_idx\u001b[0m\u001b[1;33m:\u001b[0m\u001b[0mend_idx\u001b[0m\u001b[1;33m]\u001b[0m\u001b[1;33m.\u001b[0m\u001b[0mreshape\u001b[0m\u001b[1;33m(\u001b[0m\u001b[1;33m-\u001b[0m\u001b[1;36m1\u001b[0m\u001b[1;33m)\u001b[0m\u001b[1;33m]\u001b[0m\u001b[1;33m/\u001b[0m\u001b[0msampling_rate_hz\u001b[0m\u001b[1;33m,\u001b[0m \u001b[0mymin\u001b[0m \u001b[1;33m=\u001b[0m \u001b[1;36m0\u001b[0m\u001b[1;33m,\u001b[0m \u001b[0mymax\u001b[0m\u001b[1;33m=\u001b[0m \u001b[1;36m.1\u001b[0m\u001b[1;33m,\u001b[0m \u001b[0mcolor\u001b[0m \u001b[1;33m=\u001b[0m \u001b[1;34m'orange'\u001b[0m\u001b[1;33m)\u001b[0m\u001b[1;33m\u001b[0m\u001b[1;33m\u001b[0m\u001b[0m\n\u001b[0m\u001b[0;32m      8\u001b[0m     \u001b[0mplt\u001b[0m\u001b[1;33m.\u001b[0m\u001b[0mplot\u001b[0m\u001b[1;33m(\u001b[0m\u001b[0mstart\u001b[0m \u001b[1;33m+\u001b[0m \u001b[0mxaxis\u001b[0m\u001b[1;33m/\u001b[0m\u001b[0msampling_rate_hz\u001b[0m\u001b[1;33m,\u001b[0m \u001b[0msweepY\u001b[0m\u001b[1;33m[\u001b[0m\u001b[0mstart_idx\u001b[0m\u001b[1;33m:\u001b[0m\u001b[0mend_idx\u001b[0m\u001b[1;33m]\u001b[0m\u001b[1;33m,\u001b[0m \u001b[0mlabel\u001b[0m \u001b[1;33m=\u001b[0m \u001b[1;34m'Signal'\u001b[0m\u001b[1;33m)\u001b[0m\u001b[1;33m\u001b[0m\u001b[1;33m\u001b[0m\u001b[0m\n\u001b[0;32m      9\u001b[0m     \u001b[0mplt\u001b[0m\u001b[1;33m.\u001b[0m\u001b[0mtitle\u001b[0m\u001b[1;33m(\u001b[0m\u001b[1;34m'Velocity Encoder Data from {} to {} seconds'\u001b[0m\u001b[1;33m.\u001b[0m\u001b[0mformat\u001b[0m\u001b[1;33m(\u001b[0m\u001b[0mstart\u001b[0m\u001b[1;33m,\u001b[0m \u001b[0mend\u001b[0m\u001b[1;33m)\u001b[0m\u001b[1;33m)\u001b[0m\u001b[1;33m\u001b[0m\u001b[1;33m\u001b[0m\u001b[0m\n",
      "\u001b[1;31mIndexError\u001b[0m: boolean index did not match indexed array along dimension 0; dimension is 2400000 but corresponding boolean dimension is 1704960"
     ]
    }
   ],
   "source": [
    "%matplotlib inline\n",
    "plot_trace(0, 240, sampling_rate_hz, above_cutoff, sweepY, save_name = '')"
   ]
  },
  {
   "cell_type": "code",
   "execution_count": 22,
   "id": "heavy-jersey",
   "metadata": {},
   "outputs": [
    {
     "data": {
      "text/plain": [
       "(300000,)"
      ]
     },
     "execution_count": 22,
     "metadata": {},
     "output_type": "execute_result"
    }
   ],
   "source": [
    "above_cutoff[0*sampling_rate_hz:30*sampling_rate_hz].shape"
   ]
  },
  {
   "cell_type": "markdown",
   "id": "competent-court",
   "metadata": {},
   "source": [
    "# Some preliminary before metrics\n",
    "\n",
    "Before we start calulating metrics, let's make life a bit easier for us. We want to convert our boolean arrays to sets of indices. Effectively, currently, we have an array that is `True` for every time point that is in the epoch and `False` otherwise. Instead, we want sets of indices marking the start of every bout and the end of every bout. This would be structured: `[(start, end), (start, end)]`"
   ]
  },
  {
   "cell_type": "code",
   "execution_count": 23,
   "id": "opponent-colony",
   "metadata": {},
   "outputs": [],
   "source": [
    "from itertools import accumulate, groupby\n",
    "if above_cutoff[0]:\n",
    "    \n",
    "    indices = [0] + list(accumulate(sum(1 for _ in g) for _,g in groupby(above_cutoff)))\n",
    "else:\n",
    "    indices = list(accumulate(sum(1 for _ in g) for _,g in groupby(above_cutoff)))\n",
    "\n",
    "to_remove = []\n",
    "for idx in range(len(indices) - 1):\n",
    "    if idx % 2 == 1 and indices[idx + 1] - indices[idx] < 0:\n",
    "        to_remove.append(idx)\n",
    "        to_remove.append(idx + 1)\n",
    "to_remove.append(len(indices) - 1)\n",
    "\n",
    "counter = 0\n",
    "for idx in to_remove:\n",
    "    \n",
    "    indices.pop(idx - counter)\n",
    "    counter += 1\n",
    "    \n",
    "\n"
   ]
  },
  {
   "cell_type": "code",
   "execution_count": 24,
   "id": "recorded-teddy",
   "metadata": {},
   "outputs": [
    {
     "data": {
      "text/plain": [
       "[745305, 804321, 896717, 1075309, 1554790, 1557984, 1640085, 1640280]"
      ]
     },
     "execution_count": 24,
     "metadata": {},
     "output_type": "execute_result"
    }
   ],
   "source": [
    "indices"
   ]
  },
  {
   "cell_type": "markdown",
   "id": "arbitrary-worst",
   "metadata": {},
   "source": [
    "Here's an interactive plot - this might error on other computers, let me know if you want to run this and it doesn't work"
   ]
  },
  {
   "cell_type": "code",
   "execution_count": 45,
   "id": "static-spiritual",
   "metadata": {},
   "outputs": [
    {
     "data": {
      "application/vnd.jupyter.widget-view+json": {
       "model_id": "b6bf3765c2aa48338260a56ba47862b8",
       "version_major": 2,
       "version_minor": 0
      },
      "text/plain": [
       "Canvas(toolbar=Toolbar(toolitems=[('Home', 'Reset original view', 'home', 'home'), ('Back', 'Back to previous …"
      ]
     },
     "metadata": {},
     "output_type": "display_data"
    },
    {
     "data": {
      "text/plain": [
       "[<matplotlib.lines.Line2D at 0x2f22cb95e50>]"
      ]
     },
     "execution_count": 45,
     "metadata": {},
     "output_type": "execute_result"
    }
   ],
   "source": [
    "\n",
    "%matplotlib widget\n",
    "indices_seconds = [i/sampling_rate_hz for i in indices]\n",
    "plt.vlines(indices_seconds, color = 'orange', ymin = 0, ymax = .1)    \n",
    "plt.plot(sweepX, sweepY)"
   ]
  },
  {
   "cell_type": "markdown",
   "id": "through-migration",
   "metadata": {},
   "source": [
    "Let's convert our continuous velocity trace to a continous acceleration trace. This should just be the first difference. IE. every element subtracted from every subsequent element (over time which is just one)."
   ]
  },
  {
   "cell_type": "code",
   "execution_count": 26,
   "id": "answering-dallas",
   "metadata": {},
   "outputs": [
    {
     "data": {
      "text/plain": [
       "[<matplotlib.lines.Line2D at 0x2f22680fb20>]"
      ]
     },
     "execution_count": 26,
     "metadata": {},
     "output_type": "execute_result"
    },
    {
     "data": {
      "image/png": "[encoded data removed]",
      "text/plain": [
       "<Figure size 432x288 with 1 Axes>"
      ]
     },
     "metadata": {
      "needs_background": "light"
     },
     "output_type": "display_data"
    }
   ],
   "source": [
    "acceleration = np.diff(sweepY) * sampling_rate_hz\n",
    "%matplotlib inline\n",
    "plt.plot(sweepX[:-1], acceleration)"
   ]
  },
  {
   "cell_type": "code",
   "execution_count": null,
   "id": "perceived-environment",
   "metadata": {},
   "outputs": [],
   "source": []
  },
  {
   "cell_type": "code",
   "execution_count": 27,
   "id": "surprised-taiwan",
   "metadata": {},
   "outputs": [],
   "source": [
    "def duration_of_all_bouts(indices):\n",
    "    durations = []\n",
    "    for i in range(len(indices) - 1):\n",
    "        if i%2 == 0:\n",
    "            start, end = indices[i], indices[i + 1]\n",
    "            start = start/sampling_rate_hz\n",
    "            end = end/sampling_rate_hz\n",
    "            durations.append(end - start)\n",
    "        \n",
    "    return durations"
   ]
  },
  {
   "cell_type": "code",
   "execution_count": 28,
   "id": "renewable-notification",
   "metadata": {},
   "outputs": [],
   "source": [
    "def max_velocity_bouts(indices):\n",
    "    max_vels = []\n",
    "    for i in range(len(indices) - 1):\n",
    "        if i%2 == 0:\n",
    "            start, end = indices[i], indices[i + 1]\n",
    "            max_vels.append(max(sweepY[int(start): int(end)]) * 100)\n",
    "\n",
    "    return max_vels"
   ]
  },
  {
   "cell_type": "code",
   "execution_count": 29,
   "id": "comparative-debate",
   "metadata": {},
   "outputs": [],
   "source": [
    "def avg_velocity_bouts(indices):\n",
    "    avg_vels = []\n",
    "    for i in range(len(indices) - 1):\n",
    "        if i%2 == 0:\n",
    "            start, end = indices[i], indices[i + 1]\n",
    "            avg_vels.append(np.average(sweepY[int(start): int(end)]) * 100)\n",
    "    return avg_vels"
   ]
  },
  {
   "cell_type": "code",
   "execution_count": 30,
   "id": "collectible-genre",
   "metadata": {},
   "outputs": [],
   "source": [
    "def avg_velocity(sweepY):\n",
    "    return np.nanmean(sweepY) * 100\n",
    "def max_velocity(sweepY):\n",
    "    return max(sweepY) * 100\n"
   ]
  },
  {
   "cell_type": "markdown",
   "id": "engaging-upset",
   "metadata": {},
   "source": [
    "### For acceleration, it looks like our data is a bit oversampled, so I've added a quick downsampler. The actual data is 10x less sampled so maybe it'll be fine without this, so I'll add examples with and without "
   ]
  },
  {
   "cell_type": "code",
   "execution_count": 31,
   "id": "gorgeous-update",
   "metadata": {},
   "outputs": [],
   "source": [
    "def average_downsampler(data, step = 10):\n",
    "    if step == 0: \n",
    "        return data\n",
    "    return np.array([np.average(data[i:i+step]) for i in range(0, len(data), step)])\n",
    "\n",
    "def average_downsampler_numpy(data, step = 10):\n",
    "    data = np.append(data, [np.nan] * (step - len(data) % step) )\n",
    "    data = data.reshape(-1, step)\n",
    "    return np.nanmean(data, axis = 1)"
   ]
  },
  {
   "cell_type": "code",
   "execution_count": 32,
   "id": "curious-orange",
   "metadata": {},
   "outputs": [],
   "source": [
    "def get_acceleration_vector(velocity, sampling_rate_hz, downsampling_factor = 1):\n",
    "    \"\"\"\n",
    "    This gets the acceleration vector of a velocity vector by doing the first difference.\n",
    "    It applies an averaging downsampler. \n",
    "    Note: the acceration vector will always be 1 less than the input velocity vector, since\n",
    "    it's using the first difference. Note: having a downsampling factor of 1, does nothing. \n",
    "    It also takes in the sampling_rate in hz\n",
    "    \"\"\"\n",
    "    return np.diff(average_downsampler_numpy(velocity, step = downsampling_factor)) * (sampling_rate_hz/downsampling_factor)"
   ]
  },
  {
   "cell_type": "code",
   "execution_count": 33,
   "id": "unable-camel",
   "metadata": {},
   "outputs": [],
   "source": [
    "def avg_acceleration(sweepY, downsampling_factor = 10):\n",
    "    acceleration = get_acceleration_vector(sweepY, sampling_rate_hz, downsampling_factor = 1)\n",
    "    return np.nanmean(acceleration) * 100\n",
    "def max_acceleration(sweepY, downsampling_factor = 10):\n",
    "    acceleration = get_acceleration_vector(sweepY, sampling_rate_hz, downsampling_factor = 1)\n",
    "    return max(acceleration) * 100\n",
    "\n",
    "def max_acc_bouts(indices, downsampling_factor = 10):\n",
    "    max_acc = []\n",
    "    acceleration = get_acceleration_vector(sweepY, sampling_rate_hz, downsampling_factor)\n",
    "    for i in range(len(indices) - 1):\n",
    "        if i % 2 == 0:\n",
    "            start, end = indices[i], indices[i + 1] \n",
    "            start, end = int(start//downsampling_factor), int(end//downsampling_factor)\n",
    "            if start == end:\n",
    "                continue\n",
    "            max_acc.append(max(acceleration[start: end]) * 100)\n",
    "        \n",
    "    return max_acc\n",
    "\n",
    "def avg_acc_bouts(indices, downsampling_factor = 10):\n",
    "    avg_acc = []\n",
    "    acceleration = get_acceleration_vector(sweepY, sampling_rate_hz, downsampling_factor)\n",
    "    for i in range(len(indices) - 1):\n",
    "        if i % 2 == 0:\n",
    "            start, end = indices[i], indices[i + 1] - 1\n",
    "            start, end = int(start//downsampling_factor), int(end//downsampling_factor)\n",
    "            if start == end:\n",
    "                print('happens')\n",
    "                continue\n",
    "            avg_acc.append(np.average(acceleration[int(start): int(end)]) * 100)\n",
    "    return avg_acc\n",
    "\n",
    "def avg_acceleration(sweepY, downsampling_factor = 10):\n",
    "    acceleration = get_acceleration_vector(sweepY, sampling_rate_hz, downsampling_factor)\n",
    "    return np.nanmean(acceleration) * 100\n",
    "def max_acceleration(sweepY, downsampling_factor = 10):\n",
    "    acceleration = get_acceleration_vector(sweepY, sampling_rate_hz, downsampling_factor)\n",
    "    return max(acceleration) * 100"
   ]
  },
  {
   "cell_type": "markdown",
   "id": "hollywood-fraud",
   "metadata": {},
   "source": [
    "# Velocity\n",
    "First, let's look at max velocity and average velocity for both bouts and overall, everything is in $cm/sec$"
   ]
  },
  {
   "cell_type": "code",
   "execution_count": 34,
   "id": "cordless-kelly",
   "metadata": {},
   "outputs": [
    {
     "data": {
      "text/plain": [
       "16.387939453125"
      ]
     },
     "execution_count": 34,
     "metadata": {},
     "output_type": "execute_result"
    }
   ],
   "source": [
    "max_velocity(sweepY)"
   ]
  },
  {
   "cell_type": "code",
   "execution_count": 35,
   "id": "missing-solid",
   "metadata": {},
   "outputs": [
    {
     "data": {
      "text/plain": [
       "0.5044628866016865"
      ]
     },
     "execution_count": 35,
     "metadata": {},
     "output_type": "execute_result"
    }
   ],
   "source": [
    "avg_velocity(sweepY)"
   ]
  },
  {
   "cell_type": "code",
   "execution_count": 36,
   "id": "practical-words",
   "metadata": {},
   "outputs": [
    {
     "data": {
      "text/plain": [
       "[14.190673828125, 16.387939453125, 1.251220703125, 0.91552734375]"
      ]
     },
     "execution_count": 36,
     "metadata": {},
     "output_type": "execute_result"
    }
   ],
   "source": [
    "max_velocity_bouts(indices)"
   ]
  },
  {
   "cell_type": "code",
   "execution_count": 37,
   "id": "fancy-shareware",
   "metadata": {},
   "outputs": [
    {
     "data": {
      "text/plain": [
       "[2.434235066175461, 4.228508472442627, 0.22749640047550201, 0.7753029931336641]"
      ]
     },
     "execution_count": 37,
     "metadata": {},
     "output_type": "execute_result"
    }
   ],
   "source": [
    "avg_velocity_bouts(indices)"
   ]
  },
  {
   "cell_type": "markdown",
   "id": "speaking-marina",
   "metadata": {},
   "source": [
    "# Acceleration\n",
    "Now let's move on to acceleration. All acceleration metrics have a variable called `downsampling_factor`, which will change how downsampled the acceleration vector is. `downsampling_factor = 1` keeps the original vector. Everything is in cm/sec^2."
   ]
  },
  {
   "cell_type": "code",
   "execution_count": 38,
   "id": "capable-compensation",
   "metadata": {},
   "outputs": [
    {
     "data": {
      "text/plain": [
       "159.72900390625003"
      ]
     },
     "execution_count": 38,
     "metadata": {},
     "output_type": "execute_result"
    }
   ],
   "source": [
    "max_acceleration(sweepY, downsampling_factor = 100)"
   ]
  },
  {
   "cell_type": "code",
   "execution_count": 39,
   "id": "incorporated-niagara",
   "metadata": {},
   "outputs": [
    {
     "data": {
      "text/plain": [
       "-1.3126609942905203e-05"
      ]
     },
     "execution_count": 39,
     "metadata": {},
     "output_type": "execute_result"
    }
   ],
   "source": [
    "avg_acceleration(sweepY, downsampling_factor = 100)"
   ]
  },
  {
   "cell_type": "code",
   "execution_count": 40,
   "id": "negative-irish",
   "metadata": {},
   "outputs": [
    {
     "name": "stderr",
     "output_type": "stream",
     "text": [
      "<ipython-input-31-39571767e3a6>:9: RuntimeWarning: Mean of empty slice\n",
      "  return np.nanmean(data, axis = 1)\n"
     ]
    },
    {
     "data": {
      "text/plain": [
       "[772.0947265625, 1196.2890625, 192.2607421875, 33.5693359375]"
      ]
     },
     "execution_count": 40,
     "metadata": {},
     "output_type": "execute_result"
    }
   ],
   "source": [
    "max_acc_bouts(indices, downsampling_factor = 10)"
   ]
  },
  {
   "cell_type": "code",
   "execution_count": 41,
   "id": "scheduled-complex",
   "metadata": {},
   "outputs": [
    {
     "name": "stderr",
     "output_type": "stream",
     "text": [
      "<ipython-input-31-39571767e3a6>:9: RuntimeWarning: Mean of empty slice\n",
      "  return np.nanmean(data, axis = 1)\n"
     ]
    },
    {
     "data": {
      "text/plain": [
       "[-0.009307292549135886,\n",
       " 0.009227555959180246,\n",
       " -0.35396563969435735,\n",
       " 4.015470805921053]"
      ]
     },
     "execution_count": 41,
     "metadata": {},
     "output_type": "execute_result"
    }
   ],
   "source": [
    "avg_acc_bouts(indices, downsampling_factor = 10)"
   ]
  },
  {
   "cell_type": "markdown",
   "id": "hispanic-pastor",
   "metadata": {},
   "source": [
    "# Duration\n",
    "\n",
    "Lastly, let's look at the duration of each of the bouts"
   ]
  },
  {
   "cell_type": "code",
   "execution_count": 42,
   "id": "forward-entertainment",
   "metadata": {},
   "outputs": [
    {
     "data": {
      "text/plain": [
       "[5.901600000000002, 17.8592, 0.31939999999997326, 0.019499999999993634]"
      ]
     },
     "execution_count": 42,
     "metadata": {},
     "output_type": "execute_result"
    }
   ],
   "source": [
    "duration_of_all_bouts(indices)"
   ]
  },
  {
   "cell_type": "markdown",
   "id": "tested-eagle",
   "metadata": {},
   "source": [
    "# Misc Plots"
   ]
  },
  {
   "cell_type": "code",
   "execution_count": 43,
   "id": "thirty-information",
   "metadata": {},
   "outputs": [
    {
     "data": {
      "image/png": "[encoded data removed]",
      "text/plain": [
       "<Figure size 432x288 with 1 Axes>"
      ]
     },
     "metadata": {
      "needs_background": "light"
     },
     "output_type": "display_data"
    }
   ],
   "source": [
    "%matplotlib inline\n",
    "plt.boxplot(max_velocity_bouts(indices))\n",
    "plt.title('Max Velocity Bouts')\n",
    "plt.ylabel('cm/sec')\n",
    "plt.show()"
   ]
  },
  {
   "cell_type": "code",
   "execution_count": 44,
   "id": "engaging-arkansas",
   "metadata": {},
   "outputs": [
    {
     "data": {
      "text/plain": [
       "Text(0, 0.5, 'cm/sec')"
      ]
     },
     "execution_count": 44,
     "metadata": {},
     "output_type": "execute_result"
    },
    {
     "data": {
      "image/png": "[encoded data removed]",
      "text/plain": [
       "<Figure size 432x288 with 1 Axes>"
      ]
     },
     "metadata": {
      "needs_background": "light"
     },
     "output_type": "display_data"
    }
   ],
   "source": [
    "%matplotlib inline\n",
    "plt.boxplot(avg_velocity_bouts(indices))\n",
    "plt.title('Avg Velocity Bouts')\n",
    "plt.ylabel('cm/sec')\n",
    "\n",
    "#avg_velocity_bouts(indices)"
   ]
  },
  {
   "cell_type": "code",
   "execution_count": 66,
   "id": "disciplinary-woman",
   "metadata": {},
   "outputs": [
    {
     "data": {
      "text/plain": [
       "Text(0, 0.5, 'Seconds')"
      ]
     },
     "execution_count": 66,
     "metadata": {},
     "output_type": "execute_result"
    },
    {
     "data": {
      "image/png": "[encoded data removed]",
      "text/plain": [
       "<Figure size 432x288 with 1 Axes>"
      ]
     },
     "metadata": {
      "needs_background": "light"
     },
     "output_type": "display_data"
    }
   ],
   "source": [
    "plt.boxplot(duration_of_all_bouts(indices))\n",
    "plt.title('Bout Durations')\n",
    "plt.ylabel('Seconds')"
   ]
  },
  {
   "cell_type": "code",
   "execution_count": null,
   "id": "heated-encyclopedia",
   "metadata": {},
   "outputs": [],
   "source": []
  }
 ],
 "metadata": {
  "kernelspec": {
   "display_name": "Python 3",
   "language": "python",
   "name": "python3"
  },
  "language_info": {
   "codemirror_mode": {
    "name": "ipython",
    "version": 3
   },
   "file_extension": ".py",
   "mimetype": "text/x-python",
   "name": "python",
   "nbconvert_exporter": "python",
   "pygments_lexer": "ipython3",
   "version": "3.9.2"
  }
 },
 "nbformat": 4,
 "nbformat_minor": 5
}
